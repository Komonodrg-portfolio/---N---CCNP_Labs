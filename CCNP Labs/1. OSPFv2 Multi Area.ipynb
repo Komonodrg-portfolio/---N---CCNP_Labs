{
 "cells": [
  {
   "cell_type": "markdown",
   "id": "1c9cd7e6",
   "metadata": {},
   "source": [
    "# Lab 1. OSPFv2 Multi-Area    "
   ]
  },
  {
   "cell_type": "markdown",
   "id": "9f867a3d",
   "metadata": {},
   "source": [
    "This lab illustrates the setup of OSPF setup within multiple areas.  More explaination on OSPF routing protocol can be found [here](https://www.cisconetsolutions.com/ospf-routing-protocol-deep-dive/)."
   ]
  },
  {
   "cell_type": "markdown",
   "id": "d4bf87ef",
   "metadata": {},
   "source": [
    "## Topology"
   ]
  },
  {
   "cell_type": "markdown",
   "id": "f6c1a789",
   "metadata": {},
   "source": [
    "\n",
    "![Topology](images/Topology.png)"
   ]
  }
 ],
 "metadata": {
  "language_info": {
   "name": "python"
  }
 },
 "nbformat": 4,
 "nbformat_minor": 5
}
