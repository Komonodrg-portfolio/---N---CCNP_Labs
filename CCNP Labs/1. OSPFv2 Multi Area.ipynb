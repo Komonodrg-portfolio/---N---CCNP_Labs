{
 "cells": [
  {
   "cell_type": "markdown",
   "id": "1c9cd7e6",
   "metadata": {},
   "source": [
    "# Lab 1. OSPFv2 Multi-Area    "
   ]
  },
  {
   "cell_type": "markdown",
   "id": "9f867a3d",
   "metadata": {},
   "source": [
    "This lab illustrates the setup of OSPF setup within multiple areas.  More explaination on OSPF routing protocol can be found [here](https://www.cisconetsolutions.com/ospf-routing-protocol-deep-dive/)."
   ]
  },
  {
   "cell_type": "markdown",
   "id": "d4bf87ef",
   "metadata": {},
   "source": [
    "## Topology"
   ]
  },
  {
   "cell_type": "markdown",
   "id": "f6c1a789",
   "metadata": {},
   "source": [
    "\n",
    "![Topology](/home/user/Documents/Jupyter Notebooks/images/1.OSPFv2.png)"
   ]
  },
  {
   "cell_type": "markdown",
   "id": "db6d57bd",
   "metadata": {},
   "source": [
    "## Requirements"
   ]
  },
  {
   "cell_type": "markdown",
   "id": "e4074d65",
   "metadata": {},
   "source": [
    "1) Enable OSPF on all R1, R2, R3, INET-1 interfaces with interface method\n",
    "\n",
    "2) Configure passive interfaces on LAN Segments and loopbacks\n",
    "\n",
    "3) Enable OSPF on Remote-1 and Remote-2 interfaces with global method\n",
    "\n",
    "4) Advertise all LAN segments, WAN connected subnets, and loopbacks\n",
    "\n",
    "5) Advertise default route from INET-1 to downstream routers for internet access\n",
    "\n",
    "6) Verify lab configuration and OSPF routing tables\n",
    " - show ip ospf neighbor (R1, INET-1, R3)\n",
    " - show ip route ospf (R1, INET-1, R3)\n",
    " - show ip protocols (R1)\n",
    " - show ip ospf interface (R1, INET-1, Remote-1)\n",
    " - ping (LAN-2, ISP, Remote-1)"
   ]
  }
 ],
 "metadata": {
  "language_info": {
   "name": "python"
  }
 },
 "nbformat": 4,
 "nbformat_minor": 5
}
